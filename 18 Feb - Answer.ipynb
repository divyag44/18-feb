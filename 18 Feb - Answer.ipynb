{
 "cells": [
  {
   "attachments": {},
   "cell_type": "markdown",
   "metadata": {},
   "source": [
    "### Q1. What is an API? Give an example, where an API is used in real life.\n",
    "\n",
    "> An `API` **(Application Programming Interface)** is a set of protocols, tools, and methods that allow software applications to communicate with each other. It enables developers to build software applications that can interact with other services, platforms, or databases.\n",
    "\n",
    "**An example of an API used in real life** is the Google Maps API. It allows developers to embed Google Maps into their own applications and customize the map display and functionality. This enables businesses to provide location-based services to their customers and display directions, reviews, and other information on the map.\n",
    "\n",
    "> **For example,** a food delivery app can use the Google Maps API to show customers the location of nearby restaurants and provide directions to the customer's address.\n",
    "\n",
    "> **Another example** is when a ride-sharing app like Uber uses the Google Maps API to provide drivers with the best route to pick up and drop off passengers."
   ]
  },
  {
   "attachments": {},
   "cell_type": "markdown",
   "metadata": {},
   "source": [
    "### Q2. Give advantages and disadvantages of using API.\n",
    "\n",
    "#### Advantages of an API\n",
    "\n",
    "- API provide access to large data to interact with ease which increase the user experience of an application. It provide flexiblity to the developer to reuse their codes and manage.\n",
    "\n",
    "#### Disadvantages of an API\n",
    "\n",
    "- APIs have some security concern which leads to security breaches.\n",
    "- Some APIs are paid for use which makes is costly for small buisenesses.\n",
    "- Some times maybe API server get down for some time which affects the buisenesses."
   ]
  },
  {
   "attachments": {},
   "cell_type": "markdown",
   "metadata": {},
   "source": [
    "### Q3. What is a Web API? Differentiate between API and Web API.\n",
    "\n",
    "> A `web API` is an API that is designed to be accessed through the internet, using `HTTP` or other web protocols.\n",
    "\n",
    "> The main difference between an `API` and a `web API` is that a web API is specifically designed to be accessed over the internet using `HTTP` request, while an API can be accessed through other means, such as a local network or cURL commands."
   ]
  },
  {
   "attachments": {},
   "cell_type": "markdown",
   "metadata": {},
   "source": [
    "### Q4. Explain REST and SOAP Architecture. Mention shortcomings of SOAP.\n",
    "\n",
    "> `REST` is based on the `HTTP protocol` and uses simple requests and responses to transfer data. `REST` services use `URLs` and `HTTP` methods to provide access to data resources to client or web.\n",
    "\n",
    "> `SOAP` is a more complex and heavyweight architecture that uses `XML-based` messaging to communicate between clients and servers. It provides a standardized set of rules for exchanging structured information.\n",
    "\n",
    "> `SOAP` has a lot of overhead, uses XML for all messages, and is considered difficult to implement and consume."
   ]
  },
  {
   "attachments": {},
   "cell_type": "markdown",
   "metadata": {},
   "source": [
    "### Q5. Differentiate between REST and SOAP.\n",
    "\n",
    "> `REST` **(Representational State Transfer)** is lightweight and uses simple URL patterns for data exchange, while `SOAP` **(Simple Object Access Protocol)** is heavier and uses `XML` messaging format for data exchange with more features like WS-Security, WS-AtomicTransaction, etc."
   ]
  }
 ],
 "metadata": {
  "language_info": {
   "name": "python"
  },
  "orig_nbformat": 4
 },
 "nbformat": 4,
 "nbformat_minor": 2
}
